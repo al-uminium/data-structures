{
 "cells": [
  {
   "cell_type": "code",
   "execution_count": 54,
   "metadata": {},
   "outputs": [],
   "source": [
    "class Node:\n",
    "\n",
    "    def __init__(self, data=None, next=None):\n",
    "        self.data = data\n",
    "        self.next = next\n",
    "\n",
    "class LinkedList:\n",
    "\n",
    "    def __init__(self):\n",
    "        self.head = None #head contains the node\n",
    "    \n",
    "    def insert_at_beginning(self, data):\n",
    "        node = Node(data, self.head) \n",
    "        self.head = node\n",
    "        # [1] --> Add new Node \"2\"\n",
    "        # node == Node(2, Node(1, None))\n",
    "        # self.head --> originally Node(1, None) becomes Node(2, Node(1))\n",
    "\n",
    "    def insert_at_end(self, data):\n",
    "        if self.head is None:\n",
    "            self.head = Node(data, None)\n",
    "            return\n",
    "        \n",
    "        temp = self.head\n",
    "        #e.g.\n",
    "        # [1] --> temp == Node(1, None)\n",
    "        # if I add [2] -> let newNode = Node(2, None), temp == Node(1, Node(2))\n",
    "\n",
    "        while temp.next: #Node(1, None) -> temp.next == None\n",
    "            temp = temp.next\n",
    "        temp.next = Node(data, None)\n",
    "    \n",
    "    def insert_values(self, data_list): #data_list is an array\n",
    "        for data in data_list:\n",
    "            self.insert_at_end(data)\n",
    "        return\n",
    "    \n",
    "    def get_length(self):\n",
    "        temp = self.head\n",
    "        count = 0\n",
    "        while temp.next:\n",
    "            count += 1\n",
    "            temp = temp.next\n",
    "    \n",
    "    def remove_at(self, index):\n",
    "        temp = self.head\n",
    "        while index-1 > 0:\n",
    "            temp = temp.next\n",
    "            index -= 1\n",
    "        temp.next = temp.next.next\n",
    "    \n",
    "    def insert_at(self, data, index):\n",
    "        temp = self.head\n",
    "        while index-1 > 0:\n",
    "            temp = temp.next\n",
    "            index -= 1\n",
    "        newNode = Node(data, temp.next)\n",
    "        temp.next = newNode\n",
    "\n",
    "    def print(self):\n",
    "        if self.head is None:\n",
    "            print(\"Linked list is empty\")\n",
    "        \n",
    "        temp = self.head\n",
    "\n",
    "        while temp: \n",
    "            print(temp.data)\n",
    "            temp = temp.next"
   ]
  },
  {
   "cell_type": "code",
   "execution_count": 55,
   "metadata": {},
   "outputs": [
    {
     "output_type": "stream",
     "name": "stdout",
     "text": [
      "1\n2\n5\n4\n5\n"
     ]
    }
   ],
   "source": [
    "newLL = LinkedList()\n",
    "newLL.insert_at_beginning(2)\n",
    "newLL.insert_at_beginning(1)\n",
    "newLL.insert_at_end(3)\n",
    "newLL.insert_values([4,5])\n",
    "newLL.remove_at(2)\n",
    "newLL.insert_at(5,2)\n",
    "newLL.print()"
   ]
  }
 ],
 "metadata": {
  "kernelspec": {
   "name": "python3",
   "display_name": "Python 3.8.5 64-bit ('base': conda)"
  },
  "language_info": {
   "codemirror_mode": {
    "name": "ipython",
    "version": 3
   },
   "file_extension": ".py",
   "mimetype": "text/x-python",
   "name": "python",
   "nbconvert_exporter": "python",
   "pygments_lexer": "ipython3",
   "version": "3.8.5"
  },
  "interpreter": {
   "hash": "e866882f476c82f4f6555fd82842321de7c4e800835c783add7b7ac5c118fa1a"
  }
 },
 "nbformat": 4,
 "nbformat_minor": 4
}